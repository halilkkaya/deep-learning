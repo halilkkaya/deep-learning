{
 "cells": [
  {
   "cell_type": "markdown",
   "metadata": {
    "id": "UhSzBqvXk_NO"
   },
   "source": [
    "# Hyperparameter Optimization"
   ]
  },
  {
   "cell_type": "code",
   "execution_count": null,
   "metadata": {
    "colab": {
     "base_uri": "https://localhost:8080/"
    },
    "executionInfo": {
     "elapsed": 617,
     "status": "ok",
     "timestamp": 1715279905022,
     "user": {
      "displayName": "Vahit Keskin",
      "userId": "01629533593928328348"
     },
     "user_tz": -120
    },
    "id": "9Xg0IL3q7fOk",
    "outputId": "c158f12d-aea4-481b-e4f7-398b9c7b1472"
   },
   "outputs": [
    {
     "name": "stdout",
     "output_type": "stream",
     "text": [
      "Keras Current Version: 3.3.3 Tensorflow Current Version: 2.16.1\n"
     ]
    }
   ],
   "source": [
    "import keras\n",
    "import tensorflow as tf\n",
    "print(\"Keras Current Version:\", keras.__version__, \"Tensorflow Current Version:\", tf.__version__)"
   ]
  },
  {
   "cell_type": "code",
   "execution_count": null,
   "metadata": {
    "id": "f16zDqq3pHMj"
   },
   "outputs": [],
   "source": [
    "# !pip uninstall tf-keras"
   ]
  },
  {
   "cell_type": "code",
   "execution_count": null,
   "metadata": {
    "id": "gefHJ1oufnDB"
   },
   "outputs": [],
   "source": [
    "# !pip install keras-tuner"
   ]
  },
  {
   "cell_type": "code",
   "execution_count": null,
   "metadata": {
    "id": "V9nj5WNfpIY1"
   },
   "outputs": [],
   "source": [
    "# !pip install tensorflow==2.16.1"
   ]
  },
  {
   "cell_type": "markdown",
   "metadata": {
    "id": "4fkaU13ZlJps"
   },
   "source": [
    "# Imports"
   ]
  },
  {
   "cell_type": "code",
   "execution_count": null,
   "metadata": {
    "id": "a5JXY1-PidHB"
   },
   "outputs": [],
   "source": [
    "import time\n",
    "import numpy as np\n",
    "import pandas as pd\n",
    "from joblib import dump, load\n",
    "import random\n",
    "import matplotlib.pyplot as plt\n",
    "from sklearn.preprocessing import StandardScaler\n",
    "from sklearn.model_selection import train_test_split\n",
    "import tensorflow as tf\n",
    "from tensorflow import keras\n",
    "from tensorflow.keras.optimizers import SGD, RMSprop, Adam\n",
    "from tensorflow.keras.models import Sequential, load_model\n",
    "from tensorflow.keras.regularizers import l2\n",
    "from tensorflow.keras.callbacks import EarlyStopping, ModelCheckpoint\n",
    "from tensorflow.keras.layers import Input, Dense, Dropout, BatchNormalization\n",
    "from tensorflow.keras.initializers import RandomNormal, RandomUniform, GlorotUniform, GlorotNormal, HeNormal\n",
    "from keras.optimizers.schedules import ExponentialDecay\n",
    "from keras_tuner import RandomSearch, GridSearch, BayesianOptimization\n",
    "from keras_tuner.engine.hyperparameters import HyperParameters\n",
    "\n",
    "random.seed(46)\n",
    "np.random.seed(46)\n",
    "tf.random.set_seed(46)\n"
   ]
  },
  {
   "cell_type": "markdown",
   "metadata": {
    "id": "AGxuS3MVhyHV"
   },
   "source": [
    "# Functions"
   ]
  },
  {
   "cell_type": "code",
   "execution_count": null,
   "metadata": {
    "id": "qmBVpPJ0hz33"
   },
   "outputs": [],
   "source": [
    "def preprocess_data(filepath):\n",
    "    data = pd.read_csv(filepath)\n",
    "    scaler = StandardScaler()\n",
    "    X = scaler.fit_transform(data.drop('Outcome', axis=1))\n",
    "    y = data['Outcome'].values\n",
    "    dump(scaler, 'scaler.joblib')\n",
    "    return X, y\n",
    "\n",
    "def prepare_datasets(X_train, X_val, y_train, y_val, batch_size=None):\n",
    "    if batch_size is None:\n",
    "        batch_size = len(X_train)\n",
    "    train_dataset = tf.data.Dataset.from_tensor_slices((X_train, y_train))\n",
    "    train_dataset = train_dataset.shuffle(buffer_size=len(X_train)).batch(batch_size)\n",
    "    val_dataset = tf.data.Dataset.from_tensor_slices((X_val, y_val))\n",
    "    val_dataset = val_dataset.batch(batch_size)\n",
    "    return train_dataset, val_dataset\n",
    "\n",
    "def plot_training_history(history, train_loss='loss', train_metric='accuracy', val_loss='val_loss', val_metric='val_accuracy'):\n",
    "\n",
    "    #Loss\n",
    "    plt.figure(figsize=(10, 5))\n",
    "    plt.plot(history.history[train_loss], label='Training Loss')\n",
    "    plt.plot(history.history[val_loss], label='Validation Loss')\n",
    "    plt.title('Training and Validation Loss Over Epochs')\n",
    "    plt.xlabel('Epochs')\n",
    "    plt.ylabel('Loss')\n",
    "    plt.legend()\n",
    "    plt.show()\n",
    "\n",
    "    # Metrics\n",
    "    plt.figure(figsize=(10, 5))\n",
    "    plt.plot(history.history[train_metric], label=f\"Training: {train_metric}\")\n",
    "    plt.plot(history.history[val_metric], label=f\"Validation: {val_metric}\")\n",
    "    plt.title(f'Training and Validation {train_metric} Over Epochs')\n",
    "    plt.xlabel('Epochs')\n",
    "    plt.ylabel(f'train_metric')\n",
    "    plt.legend()\n",
    "    plt.show()\n",
    "\n",
    "def get_best_epoch_details(history):\n",
    "    val_losses = history.history['val_loss']\n",
    "    min_val_loss_index = val_losses.index(min(val_losses))\n",
    "    best_epoch = min_val_loss_index + 1\n",
    "\n",
    "    epoch_details = {}\n",
    "    for key in history.history.keys():\n",
    "        epoch_details[key] = history.history[key][min_val_loss_index]\n",
    "\n",
    "    epoch_details['best_epoch'] = best_epoch\n",
    "    print(f\"Best epoch details: {epoch_details}\")"
   ]
  },
  {
   "cell_type": "markdown",
   "metadata": {
    "id": "GQcoZeUPhjEV"
   },
   "source": [
    "# Data Preparation"
   ]
  },
  {
   "cell_type": "code",
   "execution_count": null,
   "metadata": {
    "id": "o9V6zzvdgwUB"
   },
   "outputs": [],
   "source": [
    "X, y = preprocess_data('/content/diabetes.csv')\n",
    "\n",
    "X_train, X_val, y_train, y_val = train_test_split(X, y, test_size=0.2, random_state=42)\n",
    "\n",
    "train_ds, val_ds = prepare_datasets(X_train, X_val, y_train, y_val, batch_size=32)"
   ]
  },
  {
   "cell_type": "markdown",
   "metadata": {
    "id": "tCYOlbNdgO-F"
   },
   "source": [
    "# Base Model"
   ]
  },
  {
   "cell_type": "code",
   "execution_count": null,
   "metadata": {
    "colab": {
     "base_uri": "https://localhost:8080/"
    },
    "executionInfo": {
     "elapsed": 12197,
     "status": "ok",
     "timestamp": 1715279928994,
     "user": {
      "displayName": "Vahit Keskin",
      "userId": "01629533593928328348"
     },
     "user_tz": -120
    },
    "id": "88hjila8omff",
    "outputId": "ffc83207-81e5-4d76-a963-c7a42e321c81"
   },
   "outputs": [
    {
     "name": "stdout",
     "output_type": "stream",
     "text": [
      "Epoch 235: early stopping\n",
      "Restoring model weights from the end of the best epoch: 35.\n"
     ]
    }
   ],
   "source": [
    "base_model = Sequential([\n",
    "    Input(shape=(train_ds.element_spec[0].shape[1],)),\n",
    "    Dense(50, activation='relu', kernel_regularizer=l2(0.001)),\n",
    "    BatchNormalization(),\n",
    "    Dropout(0.5),\n",
    "    Dense(1, activation='sigmoid')])\n",
    "\n",
    "optimizer = SGD(learning_rate=0.01, momentum=0.0)\n",
    "\n",
    "base_model.compile(optimizer=optimizer, loss=\"binary_crossentropy\", metrics=[\"accuracy\"])\n",
    "\n",
    "early_stopping = tf.keras.callbacks.EarlyStopping(monitor='val_loss', patience=200, verbose=1, restore_best_weights=True)\n",
    "\n",
    "base_model_history = base_model.fit(train_ds, epochs=1000, validation_data=val_ds, verbose=0, callbacks=early_stopping)\n"
   ]
  },
  {
   "cell_type": "code",
   "execution_count": null,
   "metadata": {
    "colab": {
     "base_uri": "https://localhost:8080/"
    },
    "executionInfo": {
     "elapsed": 509,
     "status": "ok",
     "timestamp": 1715273714913,
     "user": {
      "displayName": "Vahit Keskin",
      "userId": "01629533593928328348"
     },
     "user_tz": -120
    },
    "id": "dMed1v2Io5XQ",
    "outputId": "58f13b7b-61f9-40ef-efcd-91e456242ef3"
   },
   "outputs": [
    {
     "name": "stdout",
     "output_type": "stream",
     "text": [
      "Best epoch details: {'accuracy': 0.767100989818573, 'loss': 0.4984630346298218, 'val_accuracy': 0.7792207598686218, 'val_loss': 0.49623173475265503, 'best_epoch': 35}\n"
     ]
    }
   ],
   "source": [
    "get_best_epoch_details(base_model_history)"
   ]
  },
  {
   "cell_type": "markdown",
   "metadata": {
    "id": "df5SPu4Mt72j"
   },
   "source": [
    "# Initialization of Weights and Biases\n"
   ]
  },
  {
   "cell_type": "code",
   "execution_count": null,
   "metadata": {
    "id": "iPPOcGf0tTBy"
   },
   "outputs": [],
   "source": [
    "def try_initializers(train_ds, val_ds):\n",
    "\n",
    "    initializers = {\n",
    "        'RandomNormal': RandomNormal(),\n",
    "        'RandomUniform': RandomUniform(),\n",
    "        'GlorotUniform': GlorotUniform(),\n",
    "        'GlorotNormal': GlorotNormal(),\n",
    "        'HeNormal': HeNormal()\n",
    "    }\n",
    "\n",
    "    for name, initializer in initializers.items():\n",
    "        print()\n",
    "        print(f\"Training model with {name} initialization...\")\n",
    "\n",
    "        start_time = time.time()\n",
    "\n",
    "        model = Sequential([\n",
    "            Input(shape=(train_ds.element_spec[0].shape[1],)),\n",
    "            Dense(50, activation='relu', kernel_initializer=initializer, kernel_regularizer=l2(0.001)),\n",
    "            BatchNormalization(),\n",
    "            Dropout(0.5),\n",
    "            Dense(1, activation='sigmoid', kernel_initializer=initializer)])\n",
    "        model.compile(optimizer=\"SGD\", loss=\"binary_crossentropy\", metrics=[\"accuracy\"])\n",
    "        early_stopping = EarlyStopping(monitor='val_loss', patience=200, verbose=1, restore_best_weights=True)\n",
    "        history = model.fit(train_ds, epochs=1000, validation_data=val_ds, verbose=0, callbacks=early_stopping)\n",
    "        get_best_epoch_details(history)\n",
    "\n",
    "        end_time = time.time()\n",
    "        training_time = end_time - start_time\n",
    "        print(\"Training time:\", training_time, \"seconds\")\n"
   ]
  },
  {
   "cell_type": "code",
   "execution_count": null,
   "metadata": {
    "colab": {
     "base_uri": "https://localhost:8080/"
    },
    "executionInfo": {
     "elapsed": 86886,
     "status": "ok",
     "timestamp": 1715274014496,
     "user": {
      "displayName": "Vahit Keskin",
      "userId": "01629533593928328348"
     },
     "user_tz": -120
    },
    "id": "m2R7DY-etTFh",
    "outputId": "4cf38f3a-cea6-43f1-d0ef-de8e48da369b"
   },
   "outputs": [
    {
     "name": "stdout",
     "output_type": "stream",
     "text": [
      "\n",
      "Training model with RandomNormal initialization...\n",
      "Epoch 229: early stopping\n",
      "Restoring model weights from the end of the best epoch: 29.\n",
      "Best epoch details: {'accuracy': 0.7801302671432495, 'loss': 0.46342968940734863, 'val_accuracy': 0.7727272510528564, 'val_loss': 0.5068941712379456, 'best_epoch': 29}\n",
      "Training time: 11.719818830490112 seconds\n",
      "\n",
      "Training model with RandomUniform initialization...\n",
      "Epoch 275: early stopping\n",
      "Restoring model weights from the end of the best epoch: 75.\n",
      "Best epoch details: {'accuracy': 0.7899022698402405, 'loss': 0.42231056094169617, 'val_accuracy': 0.7792207598686218, 'val_loss': 0.49487897753715515, 'best_epoch': 75}\n",
      "Training time: 13.28676962852478 seconds\n",
      "\n",
      "Training model with GlorotUniform initialization...\n",
      "Epoch 213: early stopping\n",
      "Restoring model weights from the end of the best epoch: 13.\n",
      "Best epoch details: {'accuracy': 0.7410423159599304, 'loss': 0.5925973057746887, 'val_accuracy': 0.7857142686843872, 'val_loss': 0.48324257135391235, 'best_epoch': 13}\n",
      "Training time: 10.918825149536133 seconds\n",
      "\n",
      "Training model with GlorotNormal initialization...\n",
      "Epoch 213: early stopping\n",
      "Restoring model weights from the end of the best epoch: 13.\n",
      "Best epoch details: {'accuracy': 0.7475569844245911, 'loss': 0.554685115814209, 'val_accuracy': 0.7727272510528564, 'val_loss': 0.49530285596847534, 'best_epoch': 13}\n",
      "Training time: 10.831278085708618 seconds\n",
      "\n",
      "Training model with HeNormal initialization...\n",
      "Restoring model weights from the end of the best epoch: 984.\n",
      "Best epoch details: {'accuracy': 0.7752442955970764, 'loss': 0.48043280839920044, 'val_accuracy': 0.7662337422370911, 'val_loss': 0.549765408039093, 'best_epoch': 984}\n",
      "Training time: 39.6235077381134 seconds\n"
     ]
    }
   ],
   "source": [
    "try_initializers(train_ds, val_ds)"
   ]
  },
  {
   "cell_type": "markdown",
   "metadata": {
    "id": "9vDMMBvF4m_E"
   },
   "source": [
    " # Layers, Units, Dropout"
   ]
  },
  {
   "cell_type": "markdown",
   "metadata": {
    "id": "2YJT7AhKFur7"
   },
   "source": [
    " ## Create Searching Space\n",
    "\n"
   ]
  },
  {
   "cell_type": "code",
   "execution_count": null,
   "metadata": {
    "id": "dh70YzdWokas"
   },
   "outputs": [],
   "source": [
    "def build_model(hp):\n",
    "  model = Sequential()\n",
    "  model.add(Input(shape=(train_ds.element_spec[0].shape[1],)))\n",
    "\n",
    "  for i in range(hp.Int('num_layers', 1, 5)):\n",
    "      model.add(Dense(units=hp.Int('units_' + str(i), min_value=32, max_value=512, step=32)))\n",
    "      model.add(BatchNormalization())\n",
    "\n",
    "      model.add(Dropout(hp.Float('dropout_' + str(i), min_value=0.0, max_value=0.5, step=0.1)))\n",
    "\n",
    "  model.add(Dense(1, activation='sigmoid'))\n",
    "\n",
    "  model.compile(optimizer=\"SGD\", loss=\"binary_crossentropy\", metrics=[\"accuracy\"])\n",
    "\n",
    "  return model\n"
   ]
  },
  {
   "cell_type": "markdown",
   "metadata": {
    "id": "AtQXY_AawyA8"
   },
   "source": [
    "## Random Search Tuner"
   ]
  },
  {
   "cell_type": "code",
   "execution_count": null,
   "metadata": {
    "id": "fONxzVt8okdE"
   },
   "outputs": [],
   "source": [
    "random_search_tuner = RandomSearch(\n",
    "    build_model,\n",
    "    objective='val_loss',\n",
    "    max_trials=20,\n",
    "    executions_per_trial=1,\n",
    "    overwrite=True)\n",
    "\n",
    "early_stopping = EarlyStopping(\n",
    "    monitor='val_loss',\n",
    "    patience=20,\n",
    "    verbose=1,\n",
    "    restore_best_weights=True)\n"
   ]
  },
  {
   "cell_type": "code",
   "execution_count": null,
   "metadata": {
    "colab": {
     "base_uri": "https://localhost:8080/"
    },
    "executionInfo": {
     "elapsed": 221900,
     "status": "ok",
     "timestamp": 1715275109499,
     "user": {
      "displayName": "Vahit Keskin",
      "userId": "01629533593928328348"
     },
     "user_tz": -120
    },
    "id": "FihJMpwhq4y4",
    "outputId": "e4b137cc-7b5c-418b-d6f1-4548c7306f1b"
   },
   "outputs": [
    {
     "name": "stdout",
     "output_type": "stream",
     "text": [
      "Trial 20 Complete [00h 00m 17s]\n",
      "val_loss: 0.4850340485572815\n",
      "\n",
      "Best val_loss So Far: 0.45973536372184753\n",
      "Total elapsed time: 00h 03m 42s\n"
     ]
    }
   ],
   "source": [
    "random_search_tuner.search(train_ds,\n",
    "                           epochs=100,\n",
    "                           validation_data=val_ds,\n",
    "                           callbacks=[early_stopping])"
   ]
  },
  {
   "cell_type": "code",
   "execution_count": null,
   "metadata": {
    "colab": {
     "base_uri": "https://localhost:8080/"
    },
    "executionInfo": {
     "elapsed": 539,
     "status": "ok",
     "timestamp": 1715275174163,
     "user": {
      "displayName": "Vahit Keskin",
      "userId": "01629533593928328348"
     },
     "user_tz": -120
    },
    "id": "WsmL1ZKZ5ODh",
    "outputId": "5979ba3a-741d-4434-b873-dff8fa5664db"
   },
   "outputs": [
    {
     "name": "stdout",
     "output_type": "stream",
     "text": [
      "Search space summary\n",
      "Default search space size: 11\n",
      "num_layers (Int)\n",
      "{'default': None, 'conditions': [], 'min_value': 1, 'max_value': 5, 'step': 1, 'sampling': 'linear'}\n",
      "units_0 (Int)\n",
      "{'default': None, 'conditions': [], 'min_value': 32, 'max_value': 512, 'step': 32, 'sampling': 'linear'}\n",
      "dropout_0 (Float)\n",
      "{'default': 0.0, 'conditions': [], 'min_value': 0.0, 'max_value': 0.5, 'step': 0.1, 'sampling': 'linear'}\n",
      "units_1 (Int)\n",
      "{'default': None, 'conditions': [], 'min_value': 32, 'max_value': 512, 'step': 32, 'sampling': 'linear'}\n",
      "dropout_1 (Float)\n",
      "{'default': 0.0, 'conditions': [], 'min_value': 0.0, 'max_value': 0.5, 'step': 0.1, 'sampling': 'linear'}\n",
      "units_2 (Int)\n",
      "{'default': None, 'conditions': [], 'min_value': 32, 'max_value': 512, 'step': 32, 'sampling': 'linear'}\n",
      "dropout_2 (Float)\n",
      "{'default': 0.0, 'conditions': [], 'min_value': 0.0, 'max_value': 0.5, 'step': 0.1, 'sampling': 'linear'}\n",
      "units_3 (Int)\n",
      "{'default': None, 'conditions': [], 'min_value': 32, 'max_value': 512, 'step': 32, 'sampling': 'linear'}\n",
      "dropout_3 (Float)\n",
      "{'default': 0.0, 'conditions': [], 'min_value': 0.0, 'max_value': 0.5, 'step': 0.1, 'sampling': 'linear'}\n",
      "units_4 (Int)\n",
      "{'default': None, 'conditions': [], 'min_value': 32, 'max_value': 512, 'step': 32, 'sampling': 'linear'}\n",
      "dropout_4 (Float)\n",
      "{'default': 0.0, 'conditions': [], 'min_value': 0.0, 'max_value': 0.5, 'step': 0.1, 'sampling': 'linear'}\n"
     ]
    }
   ],
   "source": [
    "random_search_tuner.search_space_summary()"
   ]
  },
  {
   "cell_type": "code",
   "execution_count": null,
   "metadata": {
    "id": "zMtexCEA5m8s"
   },
   "outputs": [],
   "source": [
    "random_search_tuner.results_summary()"
   ]
  },
  {
   "cell_type": "markdown",
   "metadata": {
    "id": "evdLPk0lw12R"
   },
   "source": [
    "## Best Hyperparameters"
   ]
  },
  {
   "cell_type": "code",
   "execution_count": null,
   "metadata": {
    "id": "_QRmITtsq40u"
   },
   "outputs": [],
   "source": [
    "best_hps = random_search_tuner.get_best_hyperparameters(num_trials=1)[0]"
   ]
  },
  {
   "cell_type": "code",
   "execution_count": null,
   "metadata": {
    "colab": {
     "base_uri": "https://localhost:8080/"
    },
    "executionInfo": {
     "elapsed": 1059,
     "status": "ok",
     "timestamp": 1715275301880,
     "user": {
      "displayName": "Vahit Keskin",
      "userId": "01629533593928328348"
     },
     "user_tz": -120
    },
    "id": "Tjv8RlyHX-0y",
    "outputId": "ff20125b-c53e-4631-e27d-bad19edc985d"
   },
   "outputs": [
    {
     "name": "stdout",
     "output_type": "stream",
     "text": [
      "Best Hyperparameters: {'num_layers': 5, 'units_0': 480, 'dropout_0': 0.1, 'units_1': 448, 'dropout_1': 0.4, 'units_2': 96, 'dropout_2': 0.0, 'units_3': 480, 'dropout_3': 0.0, 'units_4': 384, 'dropout_4': 0.0}\n"
     ]
    }
   ],
   "source": [
    "print(f\"Best Hyperparameters: {best_hps.values}\")"
   ]
  },
  {
   "cell_type": "markdown",
   "metadata": {
    "id": "gij49XF3w4QH"
   },
   "source": [
    "## Best Model"
   ]
  },
  {
   "cell_type": "code",
   "execution_count": null,
   "metadata": {
    "id": "-rlzjtOlt8Z4"
   },
   "outputs": [],
   "source": [
    "best_model = random_search_tuner.get_best_models(num_models=1)[0]"
   ]
  },
  {
   "cell_type": "code",
   "execution_count": null,
   "metadata": {
    "colab": {
     "base_uri": "https://localhost:8080/",
     "height": 726
    },
    "executionInfo": {
     "elapsed": 618,
     "status": "ok",
     "timestamp": 1715275494169,
     "user": {
      "displayName": "Vahit Keskin",
      "userId": "01629533593928328348"
     },
     "user_tz": -120
    },
    "id": "L-lzzJZB3uR2",
    "outputId": "502dd4cf-358d-4c50-caae-dea875f73184"
   },
   "outputs": [
    {
     "data": {
      "text/html": [
       "<pre style=\"white-space:pre;overflow-x:auto;line-height:normal;font-family:Menlo,'DejaVu Sans Mono',consolas,'Courier New',monospace\"><span style=\"font-weight: bold\">Model: \"sequential\"</span>\n",
       "</pre>\n"
      ],
      "text/plain": [
       "\u001b[1mModel: \"sequential\"\u001b[0m\n"
      ]
     },
     "metadata": {},
     "output_type": "display_data"
    },
    {
     "data": {
      "text/html": [
       "<pre style=\"white-space:pre;overflow-x:auto;line-height:normal;font-family:Menlo,'DejaVu Sans Mono',consolas,'Courier New',monospace\">┏━━━━━━━━━━━━━━━━━━━━━━━━━━━━━━━━━━━━━━┳━━━━━━━━━━━━━━━━━━━━━━━━━━━━━┳━━━━━━━━━━━━━━━━━┓\n",
       "┃<span style=\"font-weight: bold\"> Layer (type)                         </span>┃<span style=\"font-weight: bold\"> Output Shape                </span>┃<span style=\"font-weight: bold\">         Param # </span>┃\n",
       "┡━━━━━━━━━━━━━━━━━━━━━━━━━━━━━━━━━━━━━━╇━━━━━━━━━━━━━━━━━━━━━━━━━━━━━╇━━━━━━━━━━━━━━━━━┩\n",
       "│ dense (<span style=\"color: #0087ff; text-decoration-color: #0087ff\">Dense</span>)                        │ (<span style=\"color: #00d7ff; text-decoration-color: #00d7ff\">None</span>, <span style=\"color: #00af00; text-decoration-color: #00af00\">480</span>)                 │           <span style=\"color: #00af00; text-decoration-color: #00af00\">4,320</span> │\n",
       "├──────────────────────────────────────┼─────────────────────────────┼─────────────────┤\n",
       "│ batch_normalization                  │ (<span style=\"color: #00d7ff; text-decoration-color: #00d7ff\">None</span>, <span style=\"color: #00af00; text-decoration-color: #00af00\">480</span>)                 │           <span style=\"color: #00af00; text-decoration-color: #00af00\">1,920</span> │\n",
       "│ (<span style=\"color: #0087ff; text-decoration-color: #0087ff\">BatchNormalization</span>)                 │                             │                 │\n",
       "├──────────────────────────────────────┼─────────────────────────────┼─────────────────┤\n",
       "│ dropout (<span style=\"color: #0087ff; text-decoration-color: #0087ff\">Dropout</span>)                    │ (<span style=\"color: #00d7ff; text-decoration-color: #00d7ff\">None</span>, <span style=\"color: #00af00; text-decoration-color: #00af00\">480</span>)                 │               <span style=\"color: #00af00; text-decoration-color: #00af00\">0</span> │\n",
       "├──────────────────────────────────────┼─────────────────────────────┼─────────────────┤\n",
       "│ dense_1 (<span style=\"color: #0087ff; text-decoration-color: #0087ff\">Dense</span>)                      │ (<span style=\"color: #00d7ff; text-decoration-color: #00d7ff\">None</span>, <span style=\"color: #00af00; text-decoration-color: #00af00\">448</span>)                 │         <span style=\"color: #00af00; text-decoration-color: #00af00\">215,488</span> │\n",
       "├──────────────────────────────────────┼─────────────────────────────┼─────────────────┤\n",
       "│ batch_normalization_1                │ (<span style=\"color: #00d7ff; text-decoration-color: #00d7ff\">None</span>, <span style=\"color: #00af00; text-decoration-color: #00af00\">448</span>)                 │           <span style=\"color: #00af00; text-decoration-color: #00af00\">1,792</span> │\n",
       "│ (<span style=\"color: #0087ff; text-decoration-color: #0087ff\">BatchNormalization</span>)                 │                             │                 │\n",
       "├──────────────────────────────────────┼─────────────────────────────┼─────────────────┤\n",
       "│ dropout_1 (<span style=\"color: #0087ff; text-decoration-color: #0087ff\">Dropout</span>)                  │ (<span style=\"color: #00d7ff; text-decoration-color: #00d7ff\">None</span>, <span style=\"color: #00af00; text-decoration-color: #00af00\">448</span>)                 │               <span style=\"color: #00af00; text-decoration-color: #00af00\">0</span> │\n",
       "├──────────────────────────────────────┼─────────────────────────────┼─────────────────┤\n",
       "│ dense_2 (<span style=\"color: #0087ff; text-decoration-color: #0087ff\">Dense</span>)                      │ (<span style=\"color: #00d7ff; text-decoration-color: #00d7ff\">None</span>, <span style=\"color: #00af00; text-decoration-color: #00af00\">96</span>)                  │          <span style=\"color: #00af00; text-decoration-color: #00af00\">43,104</span> │\n",
       "├──────────────────────────────────────┼─────────────────────────────┼─────────────────┤\n",
       "│ batch_normalization_2                │ (<span style=\"color: #00d7ff; text-decoration-color: #00d7ff\">None</span>, <span style=\"color: #00af00; text-decoration-color: #00af00\">96</span>)                  │             <span style=\"color: #00af00; text-decoration-color: #00af00\">384</span> │\n",
       "│ (<span style=\"color: #0087ff; text-decoration-color: #0087ff\">BatchNormalization</span>)                 │                             │                 │\n",
       "├──────────────────────────────────────┼─────────────────────────────┼─────────────────┤\n",
       "│ dropout_2 (<span style=\"color: #0087ff; text-decoration-color: #0087ff\">Dropout</span>)                  │ (<span style=\"color: #00d7ff; text-decoration-color: #00d7ff\">None</span>, <span style=\"color: #00af00; text-decoration-color: #00af00\">96</span>)                  │               <span style=\"color: #00af00; text-decoration-color: #00af00\">0</span> │\n",
       "├──────────────────────────────────────┼─────────────────────────────┼─────────────────┤\n",
       "│ dense_3 (<span style=\"color: #0087ff; text-decoration-color: #0087ff\">Dense</span>)                      │ (<span style=\"color: #00d7ff; text-decoration-color: #00d7ff\">None</span>, <span style=\"color: #00af00; text-decoration-color: #00af00\">480</span>)                 │          <span style=\"color: #00af00; text-decoration-color: #00af00\">46,560</span> │\n",
       "├──────────────────────────────────────┼─────────────────────────────┼─────────────────┤\n",
       "│ batch_normalization_3                │ (<span style=\"color: #00d7ff; text-decoration-color: #00d7ff\">None</span>, <span style=\"color: #00af00; text-decoration-color: #00af00\">480</span>)                 │           <span style=\"color: #00af00; text-decoration-color: #00af00\">1,920</span> │\n",
       "│ (<span style=\"color: #0087ff; text-decoration-color: #0087ff\">BatchNormalization</span>)                 │                             │                 │\n",
       "├──────────────────────────────────────┼─────────────────────────────┼─────────────────┤\n",
       "│ dropout_3 (<span style=\"color: #0087ff; text-decoration-color: #0087ff\">Dropout</span>)                  │ (<span style=\"color: #00d7ff; text-decoration-color: #00d7ff\">None</span>, <span style=\"color: #00af00; text-decoration-color: #00af00\">480</span>)                 │               <span style=\"color: #00af00; text-decoration-color: #00af00\">0</span> │\n",
       "├──────────────────────────────────────┼─────────────────────────────┼─────────────────┤\n",
       "│ dense_4 (<span style=\"color: #0087ff; text-decoration-color: #0087ff\">Dense</span>)                      │ (<span style=\"color: #00d7ff; text-decoration-color: #00d7ff\">None</span>, <span style=\"color: #00af00; text-decoration-color: #00af00\">384</span>)                 │         <span style=\"color: #00af00; text-decoration-color: #00af00\">184,704</span> │\n",
       "├──────────────────────────────────────┼─────────────────────────────┼─────────────────┤\n",
       "│ batch_normalization_4                │ (<span style=\"color: #00d7ff; text-decoration-color: #00d7ff\">None</span>, <span style=\"color: #00af00; text-decoration-color: #00af00\">384</span>)                 │           <span style=\"color: #00af00; text-decoration-color: #00af00\">1,536</span> │\n",
       "│ (<span style=\"color: #0087ff; text-decoration-color: #0087ff\">BatchNormalization</span>)                 │                             │                 │\n",
       "├──────────────────────────────────────┼─────────────────────────────┼─────────────────┤\n",
       "│ dropout_4 (<span style=\"color: #0087ff; text-decoration-color: #0087ff\">Dropout</span>)                  │ (<span style=\"color: #00d7ff; text-decoration-color: #00d7ff\">None</span>, <span style=\"color: #00af00; text-decoration-color: #00af00\">384</span>)                 │               <span style=\"color: #00af00; text-decoration-color: #00af00\">0</span> │\n",
       "├──────────────────────────────────────┼─────────────────────────────┼─────────────────┤\n",
       "│ dense_5 (<span style=\"color: #0087ff; text-decoration-color: #0087ff\">Dense</span>)                      │ (<span style=\"color: #00d7ff; text-decoration-color: #00d7ff\">None</span>, <span style=\"color: #00af00; text-decoration-color: #00af00\">1</span>)                   │             <span style=\"color: #00af00; text-decoration-color: #00af00\">385</span> │\n",
       "└──────────────────────────────────────┴─────────────────────────────┴─────────────────┘\n",
       "</pre>\n"
      ],
      "text/plain": [
       "┏━━━━━━━━━━━━━━━━━━━━━━━━━━━━━━━━━━━━━━┳━━━━━━━━━━━━━━━━━━━━━━━━━━━━━┳━━━━━━━━━━━━━━━━━┓\n",
       "┃\u001b[1m \u001b[0m\u001b[1mLayer (type)                        \u001b[0m\u001b[1m \u001b[0m┃\u001b[1m \u001b[0m\u001b[1mOutput Shape               \u001b[0m\u001b[1m \u001b[0m┃\u001b[1m \u001b[0m\u001b[1m        Param #\u001b[0m\u001b[1m \u001b[0m┃\n",
       "┡━━━━━━━━━━━━━━━━━━━━━━━━━━━━━━━━━━━━━━╇━━━━━━━━━━━━━━━━━━━━━━━━━━━━━╇━━━━━━━━━━━━━━━━━┩\n",
       "│ dense (\u001b[38;5;33mDense\u001b[0m)                        │ (\u001b[38;5;45mNone\u001b[0m, \u001b[38;5;34m480\u001b[0m)                 │           \u001b[38;5;34m4,320\u001b[0m │\n",
       "├──────────────────────────────────────┼─────────────────────────────┼─────────────────┤\n",
       "│ batch_normalization                  │ (\u001b[38;5;45mNone\u001b[0m, \u001b[38;5;34m480\u001b[0m)                 │           \u001b[38;5;34m1,920\u001b[0m │\n",
       "│ (\u001b[38;5;33mBatchNormalization\u001b[0m)                 │                             │                 │\n",
       "├──────────────────────────────────────┼─────────────────────────────┼─────────────────┤\n",
       "│ dropout (\u001b[38;5;33mDropout\u001b[0m)                    │ (\u001b[38;5;45mNone\u001b[0m, \u001b[38;5;34m480\u001b[0m)                 │               \u001b[38;5;34m0\u001b[0m │\n",
       "├──────────────────────────────────────┼─────────────────────────────┼─────────────────┤\n",
       "│ dense_1 (\u001b[38;5;33mDense\u001b[0m)                      │ (\u001b[38;5;45mNone\u001b[0m, \u001b[38;5;34m448\u001b[0m)                 │         \u001b[38;5;34m215,488\u001b[0m │\n",
       "├──────────────────────────────────────┼─────────────────────────────┼─────────────────┤\n",
       "│ batch_normalization_1                │ (\u001b[38;5;45mNone\u001b[0m, \u001b[38;5;34m448\u001b[0m)                 │           \u001b[38;5;34m1,792\u001b[0m │\n",
       "│ (\u001b[38;5;33mBatchNormalization\u001b[0m)                 │                             │                 │\n",
       "├──────────────────────────────────────┼─────────────────────────────┼─────────────────┤\n",
       "│ dropout_1 (\u001b[38;5;33mDropout\u001b[0m)                  │ (\u001b[38;5;45mNone\u001b[0m, \u001b[38;5;34m448\u001b[0m)                 │               \u001b[38;5;34m0\u001b[0m │\n",
       "├──────────────────────────────────────┼─────────────────────────────┼─────────────────┤\n",
       "│ dense_2 (\u001b[38;5;33mDense\u001b[0m)                      │ (\u001b[38;5;45mNone\u001b[0m, \u001b[38;5;34m96\u001b[0m)                  │          \u001b[38;5;34m43,104\u001b[0m │\n",
       "├──────────────────────────────────────┼─────────────────────────────┼─────────────────┤\n",
       "│ batch_normalization_2                │ (\u001b[38;5;45mNone\u001b[0m, \u001b[38;5;34m96\u001b[0m)                  │             \u001b[38;5;34m384\u001b[0m │\n",
       "│ (\u001b[38;5;33mBatchNormalization\u001b[0m)                 │                             │                 │\n",
       "├──────────────────────────────────────┼─────────────────────────────┼─────────────────┤\n",
       "│ dropout_2 (\u001b[38;5;33mDropout\u001b[0m)                  │ (\u001b[38;5;45mNone\u001b[0m, \u001b[38;5;34m96\u001b[0m)                  │               \u001b[38;5;34m0\u001b[0m │\n",
       "├──────────────────────────────────────┼─────────────────────────────┼─────────────────┤\n",
       "│ dense_3 (\u001b[38;5;33mDense\u001b[0m)                      │ (\u001b[38;5;45mNone\u001b[0m, \u001b[38;5;34m480\u001b[0m)                 │          \u001b[38;5;34m46,560\u001b[0m │\n",
       "├──────────────────────────────────────┼─────────────────────────────┼─────────────────┤\n",
       "│ batch_normalization_3                │ (\u001b[38;5;45mNone\u001b[0m, \u001b[38;5;34m480\u001b[0m)                 │           \u001b[38;5;34m1,920\u001b[0m │\n",
       "│ (\u001b[38;5;33mBatchNormalization\u001b[0m)                 │                             │                 │\n",
       "├──────────────────────────────────────┼─────────────────────────────┼─────────────────┤\n",
       "│ dropout_3 (\u001b[38;5;33mDropout\u001b[0m)                  │ (\u001b[38;5;45mNone\u001b[0m, \u001b[38;5;34m480\u001b[0m)                 │               \u001b[38;5;34m0\u001b[0m │\n",
       "├──────────────────────────────────────┼─────────────────────────────┼─────────────────┤\n",
       "│ dense_4 (\u001b[38;5;33mDense\u001b[0m)                      │ (\u001b[38;5;45mNone\u001b[0m, \u001b[38;5;34m384\u001b[0m)                 │         \u001b[38;5;34m184,704\u001b[0m │\n",
       "├──────────────────────────────────────┼─────────────────────────────┼─────────────────┤\n",
       "│ batch_normalization_4                │ (\u001b[38;5;45mNone\u001b[0m, \u001b[38;5;34m384\u001b[0m)                 │           \u001b[38;5;34m1,536\u001b[0m │\n",
       "│ (\u001b[38;5;33mBatchNormalization\u001b[0m)                 │                             │                 │\n",
       "├──────────────────────────────────────┼─────────────────────────────┼─────────────────┤\n",
       "│ dropout_4 (\u001b[38;5;33mDropout\u001b[0m)                  │ (\u001b[38;5;45mNone\u001b[0m, \u001b[38;5;34m384\u001b[0m)                 │               \u001b[38;5;34m0\u001b[0m │\n",
       "├──────────────────────────────────────┼─────────────────────────────┼─────────────────┤\n",
       "│ dense_5 (\u001b[38;5;33mDense\u001b[0m)                      │ (\u001b[38;5;45mNone\u001b[0m, \u001b[38;5;34m1\u001b[0m)                   │             \u001b[38;5;34m385\u001b[0m │\n",
       "└──────────────────────────────────────┴─────────────────────────────┴─────────────────┘\n"
      ]
     },
     "metadata": {},
     "output_type": "display_data"
    },
    {
     "data": {
      "text/html": [
       "<pre style=\"white-space:pre;overflow-x:auto;line-height:normal;font-family:Menlo,'DejaVu Sans Mono',consolas,'Courier New',monospace\"><span style=\"font-weight: bold\"> Total params: </span><span style=\"color: #00af00; text-decoration-color: #00af00\">502,113</span> (1.92 MB)\n",
       "</pre>\n"
      ],
      "text/plain": [
       "\u001b[1m Total params: \u001b[0m\u001b[38;5;34m502,113\u001b[0m (1.92 MB)\n"
      ]
     },
     "metadata": {},
     "output_type": "display_data"
    },
    {
     "data": {
      "text/html": [
       "<pre style=\"white-space:pre;overflow-x:auto;line-height:normal;font-family:Menlo,'DejaVu Sans Mono',consolas,'Courier New',monospace\"><span style=\"font-weight: bold\"> Trainable params: </span><span style=\"color: #00af00; text-decoration-color: #00af00\">498,337</span> (1.90 MB)\n",
       "</pre>\n"
      ],
      "text/plain": [
       "\u001b[1m Trainable params: \u001b[0m\u001b[38;5;34m498,337\u001b[0m (1.90 MB)\n"
      ]
     },
     "metadata": {},
     "output_type": "display_data"
    },
    {
     "data": {
      "text/html": [
       "<pre style=\"white-space:pre;overflow-x:auto;line-height:normal;font-family:Menlo,'DejaVu Sans Mono',consolas,'Courier New',monospace\"><span style=\"font-weight: bold\"> Non-trainable params: </span><span style=\"color: #00af00; text-decoration-color: #00af00\">3,776</span> (14.75 KB)\n",
       "</pre>\n"
      ],
      "text/plain": [
       "\u001b[1m Non-trainable params: \u001b[0m\u001b[38;5;34m3,776\u001b[0m (14.75 KB)\n"
      ]
     },
     "metadata": {},
     "output_type": "display_data"
    }
   ],
   "source": [
    "best_model.summary()"
   ]
  },
  {
   "cell_type": "markdown",
   "metadata": {
    "id": "go2UCan5w7Si"
   },
   "source": [
    "## Model Performance"
   ]
  },
  {
   "cell_type": "code",
   "execution_count": null,
   "metadata": {
    "colab": {
     "base_uri": "https://localhost:8080/"
    },
    "executionInfo": {
     "elapsed": 1053,
     "status": "ok",
     "timestamp": 1715275539749,
     "user": {
      "displayName": "Vahit Keskin",
      "userId": "01629533593928328348"
     },
     "user_tz": -120
    },
    "id": "tXZPn2N5q42v",
    "outputId": "c96f5aee-7424-4e54-c801-b97e496868e9"
   },
   "outputs": [
    {
     "name": "stdout",
     "output_type": "stream",
     "text": [
      "\u001b[1m5/5\u001b[0m \u001b[32m━━━━━━━━━━━━━━━━━━━━\u001b[0m\u001b[37m\u001b[0m \u001b[1m1s\u001b[0m 38ms/step - accuracy: 0.7996 - loss: 0.4658\n",
      "Validation loss: 0.45973536372184753, Accuracy: 0.8051947951316833\n"
     ]
    }
   ],
   "source": [
    "loss, acc = best_model.evaluate(val_ds)\n",
    "print(f\"Validation loss: {loss}, Accuracy: {acc}\")"
   ]
  },
  {
   "cell_type": "markdown",
   "metadata": {
    "id": "vIc22cikxC6B"
   },
   "source": [
    "# All Together"
   ]
  },
  {
   "cell_type": "code",
   "execution_count": null,
   "metadata": {
    "id": "P9qovA7mtTNj"
   },
   "outputs": [],
   "source": [
    "def build_model(hp):\n",
    "    model = Sequential()\n",
    "    model.add(Input(shape=(train_ds.element_spec[0].shape[1],)))\n",
    "\n",
    "    # Hidden layers, activation functions, l2, Dropout\n",
    "    for i in range(hp.Int('num_layers', 1, 5)):\n",
    "\n",
    "        model.add(Dense(units=hp.Int('units_' + str(i), min_value=32, max_value=512, step=32),\n",
    "\n",
    "                        activation=hp.Choice('activation_' + str(i), values=['relu', 'tanh', 'sigmoid']),\n",
    "\n",
    "                        kernel_regularizer=l2(hp.Float('l2_' + str(i), min_value=0.0001, max_value=0.01, sampling='log'))))\n",
    "\n",
    "        model.add(BatchNormalization())\n",
    "        model.add(Dropout(hp.Float('dropout_' + str(i), min_value=0.0, max_value=0.5, step=0.1)))\n",
    "\n",
    "    model.add(Dense(1, activation='sigmoid'))\n",
    "\n",
    "    # Learning rate schedule\n",
    "    initial_learning_rate = hp.Float('initial_learning_rate', min_value=1e-4, max_value=1e-2, sampling='log')\n",
    "    lr_schedule = ExponentialDecay(\n",
    "        initial_learning_rate=initial_learning_rate,\n",
    "        decay_steps=100,\n",
    "        decay_rate=0.96,\n",
    "        staircase=True\n",
    "    )\n",
    "\n",
    "    # optimizers\n",
    "    optimizer_choice = hp.Choice('optimizer', values=['sgd', 'adam', \"rmsprop\"])\n",
    "    if optimizer_choice == 'sgd':\n",
    "        optimizer = SGD(\n",
    "            learning_rate=lr_schedule,\n",
    "            momentum=hp.Float('momentum', min_value=0.0, max_value=0.9, step=0.1)\n",
    "        )\n",
    "    elif optimizer_choice == 'adam':\n",
    "        optimizer = Adam(\n",
    "            learning_rate=lr_schedule,\n",
    "            beta_1=hp.Float('beta1', min_value=0.85, max_value=0.99, step=0.01),\n",
    "            beta_2=hp.Float('beta2', min_value=0.999, max_value=0.9999, step=0.0001),\n",
    "            epsilon=hp.Float('epsilon', min_value=1e-8, max_value=1e-7, step=1e-8)\n",
    "        )\n",
    "\n",
    "    elif optimizer_choice == 'rmsprop':\n",
    "        optimizer = RMSprop(\n",
    "            learning_rate=lr_schedule,\n",
    "            rho=hp.Float('rho', min_value=0.8, max_value=0.99, step=0.01),  # Decay rate for moving average of squared gradients\n",
    "            epsilon=hp.Float('epsilon', min_value=1e-10, max_value=1e-8, step=1e-10),\n",
    "            momentum=hp.Float('momentum', min_value=0.0, max_value=0.9, step=0.1)\n",
    "        )\n",
    "\n",
    "    model.compile(optimizer=optimizer,\n",
    "                  loss=\"binary_crossentropy\",\n",
    "                  metrics=[\"accuracy\"])\n",
    "\n",
    "    return model"
   ]
  },
  {
   "cell_type": "markdown",
   "metadata": {
    "id": "nBs92yv0myjk"
   },
   "source": [
    "## Random Search"
   ]
  },
  {
   "cell_type": "code",
   "execution_count": null,
   "metadata": {
    "id": "XYEI8pJbs2GA"
   },
   "outputs": [],
   "source": [
    "random_search_tuner = RandomSearch(\n",
    "    build_model,\n",
    "    objective='val_loss',\n",
    "    max_trials=20,\n",
    "    executions_per_trial=1,\n",
    "    overwrite=True)\n",
    "\n",
    "early_stopping = EarlyStopping(\n",
    "    monitor='val_loss',\n",
    "    patience=20,\n",
    "    verbose=1,\n",
    "    restore_best_weights=True)\n"
   ]
  },
  {
   "cell_type": "code",
   "execution_count": null,
   "metadata": {
    "colab": {
     "base_uri": "https://localhost:8080/"
    },
    "executionInfo": {
     "elapsed": 285129,
     "status": "ok",
     "timestamp": 1715280887588,
     "user": {
      "displayName": "Vahit Keskin",
      "userId": "01629533593928328348"
     },
     "user_tz": -120
    },
    "id": "p-jK6fG5s2KE",
    "outputId": "3f37f977-057d-4410-9f29-6ad9c3236a42"
   },
   "outputs": [
    {
     "name": "stdout",
     "output_type": "stream",
     "text": [
      "Trial 20 Complete [00h 00m 06s]\n",
      "val_loss: 0.5788618326187134\n",
      "\n",
      "Best val_loss So Far: 0.5018632411956787\n",
      "Total elapsed time: 00h 04m 45s\n"
     ]
    }
   ],
   "source": [
    "random_search_tuner.search(train_ds,\n",
    "                           epochs=100,\n",
    "                           validation_data=val_ds,\n",
    "                           callbacks=[early_stopping])\n"
   ]
  },
  {
   "cell_type": "markdown",
   "metadata": {
    "id": "fQEYTn2SpgMr"
   },
   "source": [
    "## Best Hyperparameters"
   ]
  },
  {
   "cell_type": "code",
   "execution_count": null,
   "metadata": {
    "colab": {
     "base_uri": "https://localhost:8080/"
    },
    "executionInfo": {
     "elapsed": 446,
     "status": "ok",
     "timestamp": 1715281405258,
     "user": {
      "displayName": "Vahit Keskin",
      "userId": "01629533593928328348"
     },
     "user_tz": -120
    },
    "id": "lgSUmFVys2Mr",
    "outputId": "5f7b2c00-1302-4f66-d302-075a7ddcebfd"
   },
   "outputs": [
    {
     "name": "stdout",
     "output_type": "stream",
     "text": [
      "Best hyperparameters: {'num_layers': 1, 'units_0': 224, 'activation_0': 'sigmoid', 'l2_0': 0.0004954647636620538, 'dropout_0': 0.0, 'initial_learning_rate': 0.004265340098831145, 'optimizer': 'sgd', 'momentum': 0.7000000000000001, 'units_1': 224, 'activation_1': 'tanh', 'l2_1': 0.00222222746808837, 'dropout_1': 0.0, 'units_2': 288, 'activation_2': 'sigmoid', 'l2_2': 0.000889531227382006, 'dropout_2': 0.0, 'units_3': 128, 'activation_3': 'tanh', 'l2_3': 0.0019355289844175982, 'dropout_3': 0.4, 'units_4': 128, 'activation_4': 'tanh', 'l2_4': 0.000421873393590671, 'dropout_4': 0.2, 'rho': 0.8600000000000001, 'epsilon': 6.1e-09, 'beta1': 0.9, 'beta2': 0.9994999999999999}\n"
     ]
    }
   ],
   "source": [
    "best_hps = random_search_tuner.get_best_hyperparameters(num_trials=1)[0]\n",
    "\n",
    "print(f\"Best hyperparameters: {best_hps.values}\")"
   ]
  },
  {
   "cell_type": "code",
   "execution_count": null,
   "metadata": {
    "colab": {
     "base_uri": "https://localhost:8080/"
    },
    "executionInfo": {
     "elapsed": 631,
     "status": "ok",
     "timestamp": 1715281606917,
     "user": {
      "displayName": "Vahit Keskin",
      "userId": "01629533593928328348"
     },
     "user_tz": -120
    },
    "id": "KXcbHheiD5Q-",
    "outputId": "f9819611-4e03-4158-9ffa-1eba472c53da"
   },
   "outputs": [
    {
     "data": {
      "text/plain": [
       "['best_hps.joblib']"
      ]
     },
     "execution_count": 30,
     "metadata": {},
     "output_type": "execute_result"
    }
   ],
   "source": [
    "dump(best_hps, 'best_hps.joblib')"
   ]
  },
  {
   "cell_type": "markdown",
   "metadata": {
    "id": "U7C8tlHzVqbw"
   },
   "source": [
    "## Best Model"
   ]
  },
  {
   "cell_type": "code",
   "execution_count": null,
   "metadata": {
    "colab": {
     "base_uri": "https://localhost:8080/"
    },
    "executionInfo": {
     "elapsed": 1240,
     "status": "ok",
     "timestamp": 1715281617284,
     "user": {
      "displayName": "Vahit Keskin",
      "userId": "01629533593928328348"
     },
     "user_tz": -120
    },
    "id": "4-dQXDuJideT",
    "outputId": "6b171ada-b0f1-4f24-cc7f-71f90954c8c6"
   },
   "outputs": [
    {
     "name": "stderr",
     "output_type": "stream",
     "text": [
      "/usr/local/lib/python3.10/dist-packages/keras/src/saving/saving_lib.py:415: UserWarning: Skipping variable loading for optimizer 'SGD', because it has 1 variables whereas the saved optimizer has 7 variables. \n",
      "  saveable.load_own_variables(weights_store.get(inner_path))\n"
     ]
    }
   ],
   "source": [
    "best_model = random_search_tuner.get_best_models(num_models=1)[0]"
   ]
  },
  {
   "cell_type": "code",
   "execution_count": null,
   "metadata": {
    "colab": {
     "base_uri": "https://localhost:8080/",
     "height": 275
    },
    "executionInfo": {
     "elapsed": 457,
     "status": "ok",
     "timestamp": 1715281656151,
     "user": {
      "displayName": "Vahit Keskin",
      "userId": "01629533593928328348"
     },
     "user_tz": -120
    },
    "id": "eX4Tf05r9SPp",
    "outputId": "70caf04c-6d96-4868-cea0-d7b1bf05c375"
   },
   "outputs": [
    {
     "data": {
      "text/html": [
       "<pre style=\"white-space:pre;overflow-x:auto;line-height:normal;font-family:Menlo,'DejaVu Sans Mono',consolas,'Courier New',monospace\"><span style=\"font-weight: bold\">Model: \"sequential\"</span>\n",
       "</pre>\n"
      ],
      "text/plain": [
       "\u001b[1mModel: \"sequential\"\u001b[0m\n"
      ]
     },
     "metadata": {},
     "output_type": "display_data"
    },
    {
     "data": {
      "text/html": [
       "<pre style=\"white-space:pre;overflow-x:auto;line-height:normal;font-family:Menlo,'DejaVu Sans Mono',consolas,'Courier New',monospace\">┏━━━━━━━━━━━━━━━━━━━━━━━━━━━━━━━━━━━━━━┳━━━━━━━━━━━━━━━━━━━━━━━━━━━━━┳━━━━━━━━━━━━━━━━━┓\n",
       "┃<span style=\"font-weight: bold\"> Layer (type)                         </span>┃<span style=\"font-weight: bold\"> Output Shape                </span>┃<span style=\"font-weight: bold\">         Param # </span>┃\n",
       "┡━━━━━━━━━━━━━━━━━━━━━━━━━━━━━━━━━━━━━━╇━━━━━━━━━━━━━━━━━━━━━━━━━━━━━╇━━━━━━━━━━━━━━━━━┩\n",
       "│ dense (<span style=\"color: #0087ff; text-decoration-color: #0087ff\">Dense</span>)                        │ (<span style=\"color: #00d7ff; text-decoration-color: #00d7ff\">None</span>, <span style=\"color: #00af00; text-decoration-color: #00af00\">224</span>)                 │           <span style=\"color: #00af00; text-decoration-color: #00af00\">2,016</span> │\n",
       "├──────────────────────────────────────┼─────────────────────────────┼─────────────────┤\n",
       "│ batch_normalization                  │ (<span style=\"color: #00d7ff; text-decoration-color: #00d7ff\">None</span>, <span style=\"color: #00af00; text-decoration-color: #00af00\">224</span>)                 │             <span style=\"color: #00af00; text-decoration-color: #00af00\">896</span> │\n",
       "│ (<span style=\"color: #0087ff; text-decoration-color: #0087ff\">BatchNormalization</span>)                 │                             │                 │\n",
       "├──────────────────────────────────────┼─────────────────────────────┼─────────────────┤\n",
       "│ dropout (<span style=\"color: #0087ff; text-decoration-color: #0087ff\">Dropout</span>)                    │ (<span style=\"color: #00d7ff; text-decoration-color: #00d7ff\">None</span>, <span style=\"color: #00af00; text-decoration-color: #00af00\">224</span>)                 │               <span style=\"color: #00af00; text-decoration-color: #00af00\">0</span> │\n",
       "├──────────────────────────────────────┼─────────────────────────────┼─────────────────┤\n",
       "│ dense_1 (<span style=\"color: #0087ff; text-decoration-color: #0087ff\">Dense</span>)                      │ (<span style=\"color: #00d7ff; text-decoration-color: #00d7ff\">None</span>, <span style=\"color: #00af00; text-decoration-color: #00af00\">1</span>)                   │             <span style=\"color: #00af00; text-decoration-color: #00af00\">225</span> │\n",
       "└──────────────────────────────────────┴─────────────────────────────┴─────────────────┘\n",
       "</pre>\n"
      ],
      "text/plain": [
       "┏━━━━━━━━━━━━━━━━━━━━━━━━━━━━━━━━━━━━━━┳━━━━━━━━━━━━━━━━━━━━━━━━━━━━━┳━━━━━━━━━━━━━━━━━┓\n",
       "┃\u001b[1m \u001b[0m\u001b[1mLayer (type)                        \u001b[0m\u001b[1m \u001b[0m┃\u001b[1m \u001b[0m\u001b[1mOutput Shape               \u001b[0m\u001b[1m \u001b[0m┃\u001b[1m \u001b[0m\u001b[1m        Param #\u001b[0m\u001b[1m \u001b[0m┃\n",
       "┡━━━━━━━━━━━━━━━━━━━━━━━━━━━━━━━━━━━━━━╇━━━━━━━━━━━━━━━━━━━━━━━━━━━━━╇━━━━━━━━━━━━━━━━━┩\n",
       "│ dense (\u001b[38;5;33mDense\u001b[0m)                        │ (\u001b[38;5;45mNone\u001b[0m, \u001b[38;5;34m224\u001b[0m)                 │           \u001b[38;5;34m2,016\u001b[0m │\n",
       "├──────────────────────────────────────┼─────────────────────────────┼─────────────────┤\n",
       "│ batch_normalization                  │ (\u001b[38;5;45mNone\u001b[0m, \u001b[38;5;34m224\u001b[0m)                 │             \u001b[38;5;34m896\u001b[0m │\n",
       "│ (\u001b[38;5;33mBatchNormalization\u001b[0m)                 │                             │                 │\n",
       "├──────────────────────────────────────┼─────────────────────────────┼─────────────────┤\n",
       "│ dropout (\u001b[38;5;33mDropout\u001b[0m)                    │ (\u001b[38;5;45mNone\u001b[0m, \u001b[38;5;34m224\u001b[0m)                 │               \u001b[38;5;34m0\u001b[0m │\n",
       "├──────────────────────────────────────┼─────────────────────────────┼─────────────────┤\n",
       "│ dense_1 (\u001b[38;5;33mDense\u001b[0m)                      │ (\u001b[38;5;45mNone\u001b[0m, \u001b[38;5;34m1\u001b[0m)                   │             \u001b[38;5;34m225\u001b[0m │\n",
       "└──────────────────────────────────────┴─────────────────────────────┴─────────────────┘\n"
      ]
     },
     "metadata": {},
     "output_type": "display_data"
    },
    {
     "data": {
      "text/html": [
       "<pre style=\"white-space:pre;overflow-x:auto;line-height:normal;font-family:Menlo,'DejaVu Sans Mono',consolas,'Courier New',monospace\"><span style=\"font-weight: bold\"> Total params: </span><span style=\"color: #00af00; text-decoration-color: #00af00\">3,137</span> (12.25 KB)\n",
       "</pre>\n"
      ],
      "text/plain": [
       "\u001b[1m Total params: \u001b[0m\u001b[38;5;34m3,137\u001b[0m (12.25 KB)\n"
      ]
     },
     "metadata": {},
     "output_type": "display_data"
    },
    {
     "data": {
      "text/html": [
       "<pre style=\"white-space:pre;overflow-x:auto;line-height:normal;font-family:Menlo,'DejaVu Sans Mono',consolas,'Courier New',monospace\"><span style=\"font-weight: bold\"> Trainable params: </span><span style=\"color: #00af00; text-decoration-color: #00af00\">2,689</span> (10.50 KB)\n",
       "</pre>\n"
      ],
      "text/plain": [
       "\u001b[1m Trainable params: \u001b[0m\u001b[38;5;34m2,689\u001b[0m (10.50 KB)\n"
      ]
     },
     "metadata": {},
     "output_type": "display_data"
    },
    {
     "data": {
      "text/html": [
       "<pre style=\"white-space:pre;overflow-x:auto;line-height:normal;font-family:Menlo,'DejaVu Sans Mono',consolas,'Courier New',monospace\"><span style=\"font-weight: bold\"> Non-trainable params: </span><span style=\"color: #00af00; text-decoration-color: #00af00\">448</span> (1.75 KB)\n",
       "</pre>\n"
      ],
      "text/plain": [
       "\u001b[1m Non-trainable params: \u001b[0m\u001b[38;5;34m448\u001b[0m (1.75 KB)\n"
      ]
     },
     "metadata": {},
     "output_type": "display_data"
    }
   ],
   "source": [
    "best_model.summary()"
   ]
  },
  {
   "cell_type": "code",
   "execution_count": null,
   "metadata": {
    "colab": {
     "base_uri": "https://localhost:8080/"
    },
    "executionInfo": {
     "elapsed": 1041,
     "status": "ok",
     "timestamp": 1715281675861,
     "user": {
      "displayName": "Vahit Keskin",
      "userId": "01629533593928328348"
     },
     "user_tz": -120
    },
    "id": "vq-8dywFU44h",
    "outputId": "9fe5ae37-32d4-4656-8c56-196b0a41523b"
   },
   "outputs": [
    {
     "name": "stdout",
     "output_type": "stream",
     "text": [
      "\u001b[1m5/5\u001b[0m \u001b[32m━━━━━━━━━━━━━━━━━━━━\u001b[0m\u001b[37m\u001b[0m \u001b[1m0s\u001b[0m 32ms/step - accuracy: 0.7610 - loss: 0.5125\n",
      "Validation set üzerinde loss: 0.5018632411956787, Accuracy: 0.7792207598686218\n"
     ]
    }
   ],
   "source": [
    "loss, acc = best_model.evaluate(val_ds)\n",
    "print(f\"Validation set üzerinde loss: {loss}, Accuracy: {acc}\")"
   ]
  },
  {
   "cell_type": "markdown",
   "metadata": {
    "id": "08E2AP03VuC-"
   },
   "source": [
    "## Saving the Best Model"
   ]
  },
  {
   "cell_type": "code",
   "execution_count": null,
   "metadata": {
    "id": "iEeld7opLGSp"
   },
   "outputs": [],
   "source": [
    "best_model.save('tuned_model.keras')"
   ]
  },
  {
   "cell_type": "markdown",
   "metadata": {
    "id": "XbWA0Ljr8Yg7"
   },
   "source": [
    "# Retrain Model for Entire Dataset"
   ]
  },
  {
   "cell_type": "markdown",
   "metadata": {
    "id": "UdEhv-6xFl6g"
   },
   "source": [
    "## Load best hps, dataset"
   ]
  },
  {
   "cell_type": "code",
   "execution_count": null,
   "metadata": {
    "id": "mfiJAgd3-vcY"
   },
   "outputs": [],
   "source": [
    "X, y = preprocess_data('/content/diabetes.csv')\n",
    "\n",
    "dataset = tf.data.Dataset.from_tensor_slices((X, y)).shuffle(buffer_size=len(X)).batch(len(X))"
   ]
  },
  {
   "cell_type": "markdown",
   "metadata": {
    "id": "niEpmJmEFu-U"
   },
   "source": [
    "## Model Build"
   ]
  },
  {
   "cell_type": "code",
   "execution_count": null,
   "metadata": {
    "id": "_dYVJjBp-vnA"
   },
   "outputs": [],
   "source": [
    "best_hps = load('best_hps.joblib')\n",
    "\n",
    "final_tuned_model = build_model(best_hps)"
   ]
  },
  {
   "cell_type": "markdown",
   "metadata": {
    "id": "X-Y519cQF069"
   },
   "source": [
    "## Training"
   ]
  },
  {
   "cell_type": "code",
   "execution_count": null,
   "metadata": {
    "id": "BnnSdR5y8blV"
   },
   "outputs": [],
   "source": [
    "early_stopping = EarlyStopping(\n",
    "    monitor='loss',\n",
    "    patience=5,\n",
    "    verbose=1,\n",
    "    restore_best_weights=True)\n",
    "\n",
    "model_checkpoint = ModelCheckpoint(\n",
    "    'final_tuned_model.keras',\n",
    "    monitor='loss',\n",
    "    verbose=0,\n",
    "    save_best_only=True)\n",
    "\n",
    "final_history = final_tuned_model.fit(dataset,\n",
    "            epochs=500,\n",
    "            verbose=1,\n",
    "            callbacks=[early_stopping, model_checkpoint])"
   ]
  },
  {
   "cell_type": "code",
   "execution_count": null,
   "metadata": {
    "id": "DB7hUcgJ8bnf"
   },
   "outputs": [],
   "source": [
    "def get_best_epoch_details(history):\n",
    "    val_losses = history.history['loss']\n",
    "    min_val_loss_index = val_losses.index(min(val_losses))\n",
    "    best_epoch = min_val_loss_index + 1\n",
    "\n",
    "    epoch_details = {}\n",
    "    for key in history.history.keys():\n",
    "        epoch_details[key] = history.history[key][min_val_loss_index]\n",
    "\n",
    "    epoch_details['best_epoch'] = best_epoch\n",
    "    print(f\"Best epoch details: {epoch_details}\")"
   ]
  },
  {
   "cell_type": "code",
   "execution_count": null,
   "metadata": {
    "colab": {
     "base_uri": "https://localhost:8080/"
    },
    "executionInfo": {
     "elapsed": 3,
     "status": "ok",
     "timestamp": 1715282442546,
     "user": {
      "displayName": "Vahit Keskin",
      "userId": "01629533593928328348"
     },
     "user_tz": -120
    },
    "id": "Wucr6rMmFOgL",
    "outputId": "cce26a62-e53e-4675-8d17-cb213cccb8b0"
   },
   "outputs": [
    {
     "name": "stdout",
     "output_type": "stream",
     "text": [
      "Best epoch details: {'accuracy': 0.7838541865348816, 'loss': 0.47668328881263733, 'best_epoch': 500}\n"
     ]
    }
   ],
   "source": [
    "get_best_epoch_details(final_history)"
   ]
  },
  {
   "cell_type": "markdown",
   "metadata": {
    "id": "5PLJJC_FGMyL"
   },
   "source": [
    "## Prediction"
   ]
  },
  {
   "cell_type": "code",
   "execution_count": null,
   "metadata": {
    "id": "jD6b0UOmGMyV"
   },
   "outputs": [],
   "source": [
    "diabetes_data = pd.read_csv('/content/diabetes.csv')\n",
    "\n",
    "scaler = load('scaler.joblib')\n",
    "\n",
    "loaded_final_tuned_model = load_model(\"/content/final_tuned_model.keras\", compile=False)"
   ]
  },
  {
   "cell_type": "code",
   "execution_count": null,
   "metadata": {
    "id": "Fb4MsjwwGMyV"
   },
   "outputs": [],
   "source": [
    "def random_samples(scaler, data, num_samples=100):\n",
    "    X = data.drop('Outcome', axis=1)\n",
    "    X_scaled = scaler.fit_transform(X)\n",
    "    new_dataset = tf.data.Dataset.from_tensor_slices((X_scaled)).batch(len(X))\n",
    "    return new_dataset"
   ]
  },
  {
   "cell_type": "code",
   "execution_count": null,
   "metadata": {
    "id": "oynTmrDmGMyW"
   },
   "outputs": [],
   "source": [
    "random_samples = random_samples(scaler, diabetes_data)"
   ]
  },
  {
   "cell_type": "code",
   "execution_count": null,
   "metadata": {
    "colab": {
     "base_uri": "https://localhost:8080/"
    },
    "executionInfo": {
     "elapsed": 431,
     "status": "ok",
     "timestamp": 1715282484519,
     "user": {
      "displayName": "Vahit Keskin",
      "userId": "01629533593928328348"
     },
     "user_tz": -120
    },
    "id": "TQj-J9HrGMyW",
    "outputId": "4471e42d-7787-4117-ac05-1b6a0346814d"
   },
   "outputs": [
    {
     "name": "stdout",
     "output_type": "stream",
     "text": [
      "\u001b[1m1/1\u001b[0m \u001b[32m━━━━━━━━━━━━━━━━━━━━\u001b[0m\u001b[37m\u001b[0m \u001b[1m0s\u001b[0m 168ms/step\n"
     ]
    },
    {
     "data": {
      "text/plain": [
       "array([[0.6710845 ],\n",
       "       [0.07178123],\n",
       "       [0.724851  ],\n",
       "       [0.06417733],\n",
       "       [0.86507714],\n",
       "       [0.17141622],\n",
       "       [0.09141503],\n",
       "       [0.557759  ],\n",
       "       [0.65300614],\n",
       "       [0.05481444]], dtype=float32)"
      ]
     },
     "execution_count": 44,
     "metadata": {},
     "output_type": "execute_result"
    }
   ],
   "source": [
    "loaded_final_tuned_model.predict(random_samples)[:10]"
   ]
  }
 ],
 "metadata": {
  "accelerator": "GPU",
  "colab": {
   "gpuType": "T4",
   "machine_shape": "hm",
   "provenance": [
    {
     "file_id": "1EI-SSwST4RWP6efVFfUrJ4qhsO931kLU",
     "timestamp": 1715270841993
    },
    {
     "file_id": "1koEi5DwAGQo3VxQOt-h7QHRCuOWHGTQ6",
     "timestamp": 1715094028124
    }
   ]
  },
  "kernelspec": {
   "display_name": "Python 3 (ipykernel)",
   "language": "python",
   "name": "python3"
  },
  "language_info": {
   "codemirror_mode": {
    "name": "ipython",
    "version": 3
   },
   "file_extension": ".py",
   "mimetype": "text/x-python",
   "name": "python",
   "nbconvert_exporter": "python",
   "pygments_lexer": "ipython3",
   "version": "3.12.4"
  }
 },
 "nbformat": 4,
 "nbformat_minor": 4
}
