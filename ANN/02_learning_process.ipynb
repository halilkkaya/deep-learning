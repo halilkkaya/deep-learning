{
 "cells": [
  {
   "cell_type": "markdown",
   "metadata": {
    "id": "yNYin8k5GyIg"
   },
   "source": [
    "# Imports"
   ]
  },
  {
   "cell_type": "code",
   "execution_count": 2,
   "metadata": {
    "executionInfo": {
     "elapsed": 1984,
     "status": "ok",
     "timestamp": 1715097255291,
     "user": {
      "displayName": "Vahit Keskin",
      "userId": "01629533593928328348"
     },
     "user_tz": -120
    },
    "id": "HC6mNJRhHKOl"
   },
   "outputs": [],
   "source": [
    "import numpy as np\n",
    "import pandas as pd\n",
    "import matplotlib.pyplot as plt\n",
    "from sklearn.model_selection import train_test_split\n",
    "from sklearn.preprocessing import StandardScaler\n",
    "from sklearn.metrics import log_loss, accuracy_score, roc_auc_score\n"
   ]
  },
  {
   "cell_type": "markdown",
   "metadata": {
    "id": "ND5yZNKUHHxE"
   },
   "source": [
    "# Data Preprocessing"
   ]
  },
  {
   "cell_type": "code",
   "execution_count": 4,
   "metadata": {
    "executionInfo": {
     "elapsed": 321,
     "status": "ok",
     "timestamp": 1715097263024,
     "user": {
      "displayName": "Vahit Keskin",
      "userId": "01629533593928328348"
     },
     "user_tz": -120
    },
    "id": "flA33Y72HODZ"
   },
   "outputs": [],
   "source": [
    "def preprocess_data(filepath):\n",
    "    data = pd.read_csv(filepath)\n",
    "    scaler = StandardScaler()\n",
    "    X = scaler.fit_transform(data.drop('Outcome', axis=1))\n",
    "    y = data['Outcome'].values\n",
    "    return X, y"
   ]
  },
  {
   "cell_type": "markdown",
   "metadata": {
    "id": "WfGDm-PqHH2a"
   },
   "source": [
    "# Activation Functions"
   ]
  },
  {
   "cell_type": "code",
   "execution_count": 6,
   "metadata": {
    "executionInfo": {
     "elapsed": 2,
     "status": "ok",
     "timestamp": 1715097268234,
     "user": {
      "displayName": "Vahit Keskin",
      "userId": "01629533593928328348"
     },
     "user_tz": -120
    },
    "id": "g5LY3-lcHP4g"
   },
   "outputs": [],
   "source": [
    "# Sigmoid\n",
    "def sigmoid(z):\n",
    "    return 1 / (1 + np.exp(-z))\n",
    "\n",
    "# Relu\n",
    "def relu(z):\n",
    "    return np.maximum(0, z)"
   ]
  },
  {
   "cell_type": "markdown",
   "metadata": {
    "id": "8pCl7-hUHH6w"
   },
   "source": [
    "# Forward Propagation"
   ]
  },
  {
   "cell_type": "code",
   "execution_count": 8,
   "metadata": {
    "executionInfo": {
     "elapsed": 343,
     "status": "ok",
     "timestamp": 1715097521182,
     "user": {
      "displayName": "Vahit Keskin",
      "userId": "01629533593928328348"
     },
     "user_tz": -120
    },
    "id": "jTuKFO3fHQSE"
   },
   "outputs": [],
   "source": [
    "def forward_propagation(X, parameters):\n",
    "    W1, b1, W2, b2 = parameters\n",
    "\n",
    "    Z1 = np.dot(W1, X.T) + b1\n",
    "    A1 = relu(Z1)\n",
    "\n",
    "    Z2 = np.dot(W2, A1) + b2\n",
    "    A2 = sigmoid(Z2)\n",
    "\n",
    "    cache = (Z1, A1, Z2, A2)\n",
    "    return A2, cache"
   ]
  },
  {
   "cell_type": "markdown",
   "metadata": {
    "id": "hBWRhB9oHH9F"
   },
   "source": [
    "# Back Propagation"
   ]
  },
  {
   "cell_type": "code",
   "execution_count": 10,
   "metadata": {
    "executionInfo": {
     "elapsed": 359,
     "status": "ok",
     "timestamp": 1715097841187,
     "user": {
      "displayName": "Vahit Keskin",
      "userId": "01629533593928328348"
     },
     "user_tz": -120
    },
    "id": "jdn-hJqDHQpa"
   },
   "outputs": [],
   "source": [
    "def backward_propagation(X, Y, cache, parameters):\n",
    "    Z1, A1, Z2, A2 = cache\n",
    "    W1, b1, W2, b2 = parameters\n",
    "    m = X.shape[0]\n",
    "\n",
    "    dA2 = A2 - Y\n",
    "    dW2 = np.dot(dA2, A1.T) / m\n",
    "    db2 = np.sum(dA2, axis=1, keepdims=True) / m\n",
    "\n",
    "    dZ1 = np.dot(W2.T, dA2) * relu(Z1 > 0)\n",
    "    dW1 = np.dot(dZ1, X) / m\n",
    "    db1 = np.sum(dZ1, axis=1, keepdims=True) / m\n",
    "\n",
    "    gradients = (dW1, db1, dW2, db2)\n",
    "\n",
    "    return gradients"
   ]
  },
  {
   "cell_type": "markdown",
   "metadata": {
    "id": "hx2ObIoHHIBH"
   },
   "source": [
    "# Update Parameters"
   ]
  },
  {
   "cell_type": "code",
   "execution_count": 13,
   "metadata": {
    "executionInfo": {
     "elapsed": 313,
     "status": "ok",
     "timestamp": 1715097921016,
     "user": {
      "displayName": "Vahit Keskin",
      "userId": "01629533593928328348"
     },
     "user_tz": -120
    },
    "id": "VJYsgT7THRAp"
   },
   "outputs": [],
   "source": [
    "def update_parameters(parameters, gradients, learning_rate):\n",
    "\n",
    "    W1, b1, W2, b2 = parameters\n",
    "    dW1, db1, dW2, db2 = gradients\n",
    "\n",
    "    W1 -= learning_rate * dW1\n",
    "    b1 -= learning_rate * db1\n",
    "    W2 -= learning_rate * dW2\n",
    "    b2 -= learning_rate * db2\n",
    "\n",
    "    return (W1, b1, W2, b2) "
   ]
  },
  {
   "cell_type": "markdown",
   "metadata": {
    "id": "-hrX7w0QHVQ-"
   },
   "source": [
    "# Train and Evaluate"
   ]
  },
  {
   "cell_type": "code",
   "execution_count": 16,
   "metadata": {
    "executionInfo": {
     "elapsed": 355,
     "status": "ok",
     "timestamp": 1715098506408,
     "user": {
      "displayName": "Vahit Keskin",
      "userId": "01629533593928328348"
     },
     "user_tz": -120
    },
    "id": "GTTds7EDHVQ-"
   },
   "outputs": [],
   "source": [
    "\n",
    "def train_and_evaluate(X_train, y_train, X_val, y_val, layer_dims, learning_rate, num_iterations):\n",
    "    np.random.seed(3)\n",
    "\n",
    "    W1 = np.random.randn(layer_dims[1], layer_dims[0]) * 0.01\n",
    "    b1 = np.zeros((layer_dims[1], 1))\n",
    "\n",
    "    W2 = np.random.randn(layer_dims[2], layer_dims[1]) * 0.01\n",
    "    b2 = np.zeros((layer_dims[2], 1))\n",
    "\n",
    "    parameters = (W1, b1, W2, b2)\n",
    "\n",
    "    train_loss_list = []\n",
    "    val_loss_list = []\n",
    "\n",
    "    for i in range(num_iterations):\n",
    "\n",
    "        # Forward Propagation\n",
    "        A2_train, cache_train = forward_propagation(X_train, parameters)\n",
    "\n",
    "        # train loss\n",
    "        train_loss = log_loss(y_train, A2_train.flatten())\n",
    "        train_loss_list.append(train_loss)\n",
    "\n",
    "        # val loss\n",
    "        A2_val, _ = forward_propagation(X_val, parameters)\n",
    "        val_loss = log_loss(y_val, A2_val.flatten())\n",
    "        val_loss_list.append(val_loss)\n",
    "\n",
    "        # 1-0\n",
    "        predictions_train = (A2_train > 0.5).astype(int)\n",
    "        predictions_val = (A2_val > 0.5).astype(int)\n",
    "\n",
    "        # Performance metrics\n",
    "        train_accuracy = accuracy_score(y_train, predictions_train.flatten())\n",
    "\n",
    "        val_accuracy = accuracy_score(y_val, predictions_val.flatten())\n",
    "\n",
    "        train_auc = roc_auc_score(y_train, A2_train.flatten())\n",
    "        val_auc = roc_auc_score(y_val, A2_val.flatten())\n",
    "\n",
    "        # Back Propagation\n",
    "        gradients = backward_propagation(X_train, y_train, cache_train, parameters)\n",
    "\n",
    "        # Update Weights\n",
    "        parameters = update_parameters(parameters, gradients, learning_rate)\n",
    "\n",
    "        if i % 100 == 0:\n",
    "            print(f\"Iteration {i}: Train Loss {train_loss:.4f}, Val Loss {val_loss:.4f}, \"\n",
    "                  f\"Train Acc {train_accuracy:.4f}, Val Acc {val_accuracy:.4f}, \"\n",
    "                  f\"Train AUC {train_auc:.4f}, Val AUC {val_auc:.4f}\")\n",
    "\n",
    "    plt.figure(figsize=(10, 5))\n",
    "    plt.plot(train_loss_list, label='Training Loss')\n",
    "    plt.plot(val_loss_list, label='Validation Loss')\n",
    "    plt.title('Training and Validation Loss Over Epochs')\n",
    "    plt.xlabel('Epochs')\n",
    "    plt.ylabel('Log Loss')\n",
    "    plt.legend()\n",
    "    plt.show()\n",
    "\n",
    "    return parameters"
   ]
  },
  {
   "cell_type": "markdown",
   "metadata": {
    "id": "YgON5EPvG3Ff"
   },
   "source": [
    "# Learning Processes"
   ]
  },
  {
   "cell_type": "code",
   "execution_count": 23,
   "metadata": {
    "executionInfo": {
     "elapsed": 344,
     "status": "ok",
     "timestamp": 1715098913976,
     "user": {
      "displayName": "Vahit Keskin",
      "userId": "01629533593928328348"
     },
     "user_tz": -120
    },
    "id": "phC6aOPOG54N"
   },
   "outputs": [],
   "source": [
    "def main(num_iterations = 1000, learning_rate = 0.01):\n",
    "\n",
    "    X, y = preprocess_data('diabetes.csv')\n",
    "\n",
    "    X_train, X_val, y_train, y_val = train_test_split(X, y, test_size=0.2, random_state=42)\n",
    "\n",
    "    layer_dims = [X_train.shape[1], 2, 1]\n",
    "\n",
    "    parameters = train_and_evaluate(X_train, y_train, X_val, y_val, layer_dims, learning_rate, num_iterations)\n",
    "\n",
    "    return parameters\n",
    "\n"
   ]
  },
  {
   "cell_type": "code",
   "execution_count": 25,
   "metadata": {
    "colab": {
     "base_uri": "https://localhost:8080/",
     "height": 1000
    },
    "executionInfo": {
     "elapsed": 64639,
     "status": "ok",
     "timestamp": 1715098995518,
     "user": {
      "displayName": "Vahit Keskin",
      "userId": "01629533593928328348"
     },
     "user_tz": -120
    },
    "id": "Zbn4BgF_3JDf",
    "outputId": "faa7ff46-2998-45d7-8197-3170c596219e"
   },
   "outputs": [
    {
     "name": "stdout",
     "output_type": "stream",
     "text": [
      "Iteration 0: Train Loss 0.6931, Val Loss 0.6931, Train Acc 0.6531, Val Acc 0.6429, Train AUC 0.4054, Val AUC 0.3319\n",
      "Iteration 100: Train Loss 0.6747, Val Loss 0.6761, Train Acc 0.6531, Val Acc 0.6429, Train AUC 0.4511, Val AUC 0.3759\n",
      "Iteration 200: Train Loss 0.6634, Val Loss 0.6659, Train Acc 0.6531, Val Acc 0.6429, Train AUC 0.5051, Val AUC 0.4264\n",
      "Iteration 300: Train Loss 0.6566, Val Loss 0.6599, Train Acc 0.6531, Val Acc 0.6429, Train AUC 0.5679, Val AUC 0.5009\n",
      "Iteration 400: Train Loss 0.6524, Val Loss 0.6564, Train Acc 0.6531, Val Acc 0.6429, Train AUC 0.6400, Val AUC 0.5678\n",
      "Iteration 500: Train Loss 0.6497, Val Loss 0.6543, Train Acc 0.6531, Val Acc 0.6429, Train AUC 0.6966, Val AUC 0.6213\n",
      "Iteration 600: Train Loss 0.6481, Val Loss 0.6530, Train Acc 0.6531, Val Acc 0.6429, Train AUC 0.7360, Val AUC 0.6683\n",
      "Iteration 700: Train Loss 0.6470, Val Loss 0.6523, Train Acc 0.6531, Val Acc 0.6429, Train AUC 0.7616, Val AUC 0.6968\n",
      "Iteration 800: Train Loss 0.6463, Val Loss 0.6519, Train Acc 0.6531, Val Acc 0.6429, Train AUC 0.7818, Val AUC 0.7197\n",
      "Iteration 900: Train Loss 0.6458, Val Loss 0.6516, Train Acc 0.6531, Val Acc 0.6429, Train AUC 0.7952, Val AUC 0.7286\n",
      "Iteration 1000: Train Loss 0.6454, Val Loss 0.6513, Train Acc 0.6531, Val Acc 0.6429, Train AUC 0.8029, Val AUC 0.7382\n",
      "Iteration 1100: Train Loss 0.6450, Val Loss 0.6511, Train Acc 0.6531, Val Acc 0.6429, Train AUC 0.8088, Val AUC 0.7467\n",
      "Iteration 1200: Train Loss 0.6445, Val Loss 0.6508, Train Acc 0.6531, Val Acc 0.6429, Train AUC 0.8118, Val AUC 0.7579\n",
      "Iteration 1300: Train Loss 0.6440, Val Loss 0.6503, Train Acc 0.6531, Val Acc 0.6429, Train AUC 0.8151, Val AUC 0.7574\n",
      "Iteration 1400: Train Loss 0.6432, Val Loss 0.6497, Train Acc 0.6531, Val Acc 0.6429, Train AUC 0.8167, Val AUC 0.7609\n",
      "Iteration 1500: Train Loss 0.6422, Val Loss 0.6488, Train Acc 0.6531, Val Acc 0.6429, Train AUC 0.8171, Val AUC 0.7669\n",
      "Iteration 1600: Train Loss 0.6407, Val Loss 0.6476, Train Acc 0.6531, Val Acc 0.6429, Train AUC 0.8169, Val AUC 0.7693\n",
      "Iteration 1700: Train Loss 0.6388, Val Loss 0.6459, Train Acc 0.6531, Val Acc 0.6429, Train AUC 0.8160, Val AUC 0.7693\n",
      "Iteration 1800: Train Loss 0.6361, Val Loss 0.6435, Train Acc 0.6531, Val Acc 0.6429, Train AUC 0.8165, Val AUC 0.7686\n",
      "Iteration 1900: Train Loss 0.6324, Val Loss 0.6403, Train Acc 0.6531, Val Acc 0.6429, Train AUC 0.8166, Val AUC 0.7669\n",
      "Iteration 2000: Train Loss 0.6277, Val Loss 0.6361, Train Acc 0.6531, Val Acc 0.6429, Train AUC 0.8168, Val AUC 0.7672\n",
      "Iteration 2100: Train Loss 0.6216, Val Loss 0.6308, Train Acc 0.6531, Val Acc 0.6429, Train AUC 0.8153, Val AUC 0.7642\n",
      "Iteration 2200: Train Loss 0.6141, Val Loss 0.6243, Train Acc 0.6531, Val Acc 0.6429, Train AUC 0.8170, Val AUC 0.7679\n",
      "Iteration 2300: Train Loss 0.6054, Val Loss 0.6167, Train Acc 0.6531, Val Acc 0.6429, Train AUC 0.8161, Val AUC 0.7691\n",
      "Iteration 2400: Train Loss 0.5956, Val Loss 0.6084, Train Acc 0.6531, Val Acc 0.6429, Train AUC 0.8163, Val AUC 0.7708\n",
      "Iteration 2500: Train Loss 0.5852, Val Loss 0.5997, Train Acc 0.6531, Val Acc 0.6429, Train AUC 0.8165, Val AUC 0.7710\n",
      "Iteration 2600: Train Loss 0.5747, Val Loss 0.5911, Train Acc 0.6531, Val Acc 0.6429, Train AUC 0.8155, Val AUC 0.7729\n",
      "Iteration 2700: Train Loss 0.5643, Val Loss 0.5829, Train Acc 0.6531, Val Acc 0.6429, Train AUC 0.8152, Val AUC 0.7733\n",
      "Iteration 2800: Train Loss 0.5544, Val Loss 0.5752, Train Acc 0.6531, Val Acc 0.6429, Train AUC 0.8169, Val AUC 0.7702\n",
      "Iteration 2900: Train Loss 0.5452, Val Loss 0.5683, Train Acc 0.6531, Val Acc 0.6429, Train AUC 0.8178, Val AUC 0.7713\n",
      "Iteration 3000: Train Loss 0.5367, Val Loss 0.5622, Train Acc 0.6531, Val Acc 0.6429, Train AUC 0.8175, Val AUC 0.7717\n",
      "Iteration 3100: Train Loss 0.5292, Val Loss 0.5569, Train Acc 0.6531, Val Acc 0.6429, Train AUC 0.8188, Val AUC 0.7725\n",
      "Iteration 3200: Train Loss 0.5224, Val Loss 0.5524, Train Acc 0.6531, Val Acc 0.6429, Train AUC 0.8200, Val AUC 0.7725\n",
      "Iteration 3300: Train Loss 0.5164, Val Loss 0.5487, Train Acc 0.6531, Val Acc 0.6429, Train AUC 0.8206, Val AUC 0.7685\n",
      "Iteration 3400: Train Loss 0.5111, Val Loss 0.5457, Train Acc 0.6531, Val Acc 0.6429, Train AUC 0.8205, Val AUC 0.7683\n",
      "Iteration 3500: Train Loss 0.5064, Val Loss 0.5432, Train Acc 0.6531, Val Acc 0.6429, Train AUC 0.8212, Val AUC 0.7706\n",
      "Iteration 3600: Train Loss 0.5023, Val Loss 0.5414, Train Acc 0.6531, Val Acc 0.6429, Train AUC 0.8205, Val AUC 0.7725\n",
      "Iteration 3700: Train Loss 0.4986, Val Loss 0.5401, Train Acc 0.7655, Val Acc 0.7338, Train AUC 0.8217, Val AUC 0.7718\n",
      "Iteration 3800: Train Loss 0.4953, Val Loss 0.5392, Train Acc 0.7720, Val Acc 0.7338, Train AUC 0.8238, Val AUC 0.7716\n",
      "Iteration 3900: Train Loss 0.4924, Val Loss 0.5385, Train Acc 0.7671, Val Acc 0.7338, Train AUC 0.8243, Val AUC 0.7750\n",
      "Iteration 4000: Train Loss 0.4899, Val Loss 0.5381, Train Acc 0.7704, Val Acc 0.7273, Train AUC 0.8258, Val AUC 0.7699\n",
      "Iteration 4100: Train Loss 0.4876, Val Loss 0.5379, Train Acc 0.7704, Val Acc 0.7273, Train AUC 0.8278, Val AUC 0.7684\n",
      "Iteration 4200: Train Loss 0.4856, Val Loss 0.5379, Train Acc 0.7704, Val Acc 0.7208, Train AUC 0.8290, Val AUC 0.7684\n",
      "Iteration 4300: Train Loss 0.4838, Val Loss 0.5380, Train Acc 0.7704, Val Acc 0.7208, Train AUC 0.8294, Val AUC 0.7682\n",
      "Iteration 4400: Train Loss 0.4822, Val Loss 0.5381, Train Acc 0.7736, Val Acc 0.7208, Train AUC 0.8295, Val AUC 0.7712\n",
      "Iteration 4500: Train Loss 0.4808, Val Loss 0.5383, Train Acc 0.7704, Val Acc 0.7143, Train AUC 0.8287, Val AUC 0.7702\n",
      "Iteration 4600: Train Loss 0.4796, Val Loss 0.5386, Train Acc 0.7687, Val Acc 0.7078, Train AUC 0.8293, Val AUC 0.7708\n",
      "Iteration 4700: Train Loss 0.4785, Val Loss 0.5390, Train Acc 0.7687, Val Acc 0.7078, Train AUC 0.8297, Val AUC 0.7706\n",
      "Iteration 4800: Train Loss 0.4775, Val Loss 0.5395, Train Acc 0.7687, Val Acc 0.7078, Train AUC 0.8297, Val AUC 0.7704\n",
      "Iteration 4900: Train Loss 0.4766, Val Loss 0.5400, Train Acc 0.7687, Val Acc 0.7078, Train AUC 0.8304, Val AUC 0.7701\n",
      "Iteration 5000: Train Loss 0.4758, Val Loss 0.5405, Train Acc 0.7687, Val Acc 0.7078, Train AUC 0.8302, Val AUC 0.7699\n",
      "Iteration 5100: Train Loss 0.4752, Val Loss 0.5410, Train Acc 0.7687, Val Acc 0.7013, Train AUC 0.8302, Val AUC 0.7725\n",
      "Iteration 5200: Train Loss 0.4746, Val Loss 0.5416, Train Acc 0.7687, Val Acc 0.7013, Train AUC 0.8302, Val AUC 0.7767\n",
      "Iteration 5300: Train Loss 0.4741, Val Loss 0.5421, Train Acc 0.7704, Val Acc 0.7013, Train AUC 0.8300, Val AUC 0.7767\n",
      "Iteration 5400: Train Loss 0.4737, Val Loss 0.5427, Train Acc 0.7704, Val Acc 0.7013, Train AUC 0.8296, Val AUC 0.7763\n",
      "Iteration 5500: Train Loss 0.4733, Val Loss 0.5433, Train Acc 0.7704, Val Acc 0.7013, Train AUC 0.8296, Val AUC 0.7794\n",
      "Iteration 5600: Train Loss 0.4730, Val Loss 0.5438, Train Acc 0.7720, Val Acc 0.7013, Train AUC 0.8296, Val AUC 0.7794\n",
      "Iteration 5700: Train Loss 0.4727, Val Loss 0.5444, Train Acc 0.7720, Val Acc 0.7013, Train AUC 0.8296, Val AUC 0.7803\n",
      "Iteration 5800: Train Loss 0.4725, Val Loss 0.5449, Train Acc 0.7720, Val Acc 0.7013, Train AUC 0.8296, Val AUC 0.7803\n",
      "Iteration 5900: Train Loss 0.4722, Val Loss 0.5455, Train Acc 0.7720, Val Acc 0.7013, Train AUC 0.8303, Val AUC 0.7802\n",
      "Iteration 6000: Train Loss 0.4720, Val Loss 0.5459, Train Acc 0.7720, Val Acc 0.7013, Train AUC 0.8311, Val AUC 0.7803\n",
      "Iteration 6100: Train Loss 0.4717, Val Loss 0.5463, Train Acc 0.7687, Val Acc 0.7013, Train AUC 0.8325, Val AUC 0.7803\n",
      "Iteration 6200: Train Loss 0.4715, Val Loss 0.5465, Train Acc 0.7687, Val Acc 0.7013, Train AUC 0.8340, Val AUC 0.7839\n",
      "Iteration 6300: Train Loss 0.4714, Val Loss 0.5467, Train Acc 0.7704, Val Acc 0.7013, Train AUC 0.8355, Val AUC 0.7902\n",
      "Iteration 6400: Train Loss 0.4712, Val Loss 0.5468, Train Acc 0.7736, Val Acc 0.7013, Train AUC 0.8345, Val AUC 0.7919\n",
      "Iteration 6500: Train Loss 0.4710, Val Loss 0.5470, Train Acc 0.7752, Val Acc 0.7013, Train AUC 0.8360, Val AUC 0.7952\n",
      "Iteration 6600: Train Loss 0.4708, Val Loss 0.5471, Train Acc 0.7752, Val Acc 0.7013, Train AUC 0.8369, Val AUC 0.7952\n",
      "Iteration 6700: Train Loss 0.4706, Val Loss 0.5471, Train Acc 0.7736, Val Acc 0.7078, Train AUC 0.8407, Val AUC 0.7985\n",
      "Iteration 6800: Train Loss 0.4704, Val Loss 0.5470, Train Acc 0.7736, Val Acc 0.7078, Train AUC 0.8415, Val AUC 0.7978\n",
      "Iteration 6900: Train Loss 0.4702, Val Loss 0.5469, Train Acc 0.7736, Val Acc 0.7078, Train AUC 0.8412, Val AUC 0.7982\n",
      "Iteration 7000: Train Loss 0.4699, Val Loss 0.5468, Train Acc 0.7736, Val Acc 0.7013, Train AUC 0.8409, Val AUC 0.7950\n",
      "Iteration 7100: Train Loss 0.4697, Val Loss 0.5467, Train Acc 0.7736, Val Acc 0.7013, Train AUC 0.8407, Val AUC 0.7954\n",
      "Iteration 7200: Train Loss 0.4695, Val Loss 0.5466, Train Acc 0.7769, Val Acc 0.7013, Train AUC 0.8416, Val AUC 0.7912\n",
      "Iteration 7300: Train Loss 0.4693, Val Loss 0.5464, Train Acc 0.7785, Val Acc 0.7013, Train AUC 0.8415, Val AUC 0.7948\n",
      "Iteration 7400: Train Loss 0.4691, Val Loss 0.5462, Train Acc 0.7785, Val Acc 0.7013, Train AUC 0.8417, Val AUC 0.7955\n",
      "Iteration 7500: Train Loss 0.4688, Val Loss 0.5459, Train Acc 0.7785, Val Acc 0.7013, Train AUC 0.8423, Val AUC 0.7974\n",
      "Iteration 7600: Train Loss 0.4686, Val Loss 0.5455, Train Acc 0.7785, Val Acc 0.7013, Train AUC 0.8437, Val AUC 0.8018\n",
      "Iteration 7700: Train Loss 0.4682, Val Loss 0.5450, Train Acc 0.7785, Val Acc 0.7013, Train AUC 0.8458, Val AUC 0.8040\n",
      "Iteration 7800: Train Loss 0.4678, Val Loss 0.5445, Train Acc 0.7769, Val Acc 0.7013, Train AUC 0.8454, Val AUC 0.8038\n",
      "Iteration 7900: Train Loss 0.4675, Val Loss 0.5440, Train Acc 0.7769, Val Acc 0.7013, Train AUC 0.8452, Val AUC 0.8028\n",
      "Iteration 8000: Train Loss 0.4671, Val Loss 0.5435, Train Acc 0.7769, Val Acc 0.7078, Train AUC 0.8453, Val AUC 0.8021\n",
      "Iteration 8100: Train Loss 0.4668, Val Loss 0.5430, Train Acc 0.7769, Val Acc 0.7078, Train AUC 0.8453, Val AUC 0.8046\n",
      "Iteration 8200: Train Loss 0.4665, Val Loss 0.5424, Train Acc 0.7769, Val Acc 0.7078, Train AUC 0.8454, Val AUC 0.8048\n",
      "Iteration 8300: Train Loss 0.4661, Val Loss 0.5418, Train Acc 0.7769, Val Acc 0.7078, Train AUC 0.8456, Val AUC 0.8051\n",
      "Iteration 8400: Train Loss 0.4658, Val Loss 0.5412, Train Acc 0.7769, Val Acc 0.7078, Train AUC 0.8461, Val AUC 0.8050\n",
      "Iteration 8500: Train Loss 0.4654, Val Loss 0.5406, Train Acc 0.7752, Val Acc 0.7078, Train AUC 0.8463, Val AUC 0.8057\n",
      "Iteration 8600: Train Loss 0.4650, Val Loss 0.5400, Train Acc 0.7752, Val Acc 0.7078, Train AUC 0.8463, Val AUC 0.8062\n",
      "Iteration 8700: Train Loss 0.4647, Val Loss 0.5393, Train Acc 0.7752, Val Acc 0.7078, Train AUC 0.8464, Val AUC 0.8070\n",
      "Iteration 8800: Train Loss 0.4643, Val Loss 0.5387, Train Acc 0.7752, Val Acc 0.7078, Train AUC 0.8467, Val AUC 0.8073\n",
      "Iteration 8900: Train Loss 0.4639, Val Loss 0.5381, Train Acc 0.7752, Val Acc 0.7078, Train AUC 0.8471, Val AUC 0.8072\n",
      "Iteration 9000: Train Loss 0.4635, Val Loss 0.5376, Train Acc 0.7752, Val Acc 0.7078, Train AUC 0.8478, Val AUC 0.8072\n",
      "Iteration 9100: Train Loss 0.4632, Val Loss 0.5371, Train Acc 0.7769, Val Acc 0.7078, Train AUC 0.8480, Val AUC 0.8068\n",
      "Iteration 9200: Train Loss 0.4628, Val Loss 0.5366, Train Acc 0.7769, Val Acc 0.7013, Train AUC 0.8480, Val AUC 0.8066\n",
      "Iteration 9300: Train Loss 0.4624, Val Loss 0.5360, Train Acc 0.7769, Val Acc 0.7013, Train AUC 0.8486, Val AUC 0.8070\n",
      "Iteration 9400: Train Loss 0.4619, Val Loss 0.5353, Train Acc 0.7801, Val Acc 0.7013, Train AUC 0.8498, Val AUC 0.8079\n",
      "Iteration 9500: Train Loss 0.4610, Val Loss 0.5348, Train Acc 0.7769, Val Acc 0.7013, Train AUC 0.8502, Val AUC 0.8056\n",
      "Iteration 9600: Train Loss 0.4604, Val Loss 0.5345, Train Acc 0.7801, Val Acc 0.7013, Train AUC 0.8506, Val AUC 0.8054\n",
      "Iteration 9700: Train Loss 0.4598, Val Loss 0.5339, Train Acc 0.7785, Val Acc 0.7013, Train AUC 0.8508, Val AUC 0.8058\n",
      "Iteration 9800: Train Loss 0.4593, Val Loss 0.5333, Train Acc 0.7801, Val Acc 0.7013, Train AUC 0.8509, Val AUC 0.8063\n",
      "Iteration 9900: Train Loss 0.4588, Val Loss 0.5327, Train Acc 0.7818, Val Acc 0.7078, Train AUC 0.8515, Val AUC 0.8061\n"
     ]
    },
    {
     "data": {
      "image/png": "[encoded data removed]",
      "text/plain": [
       "<Figure size 1000x500 with 1 Axes>"
      ]
     },
     "metadata": {},
     "output_type": "display_data"
    }
   ],
   "source": [
    "\n",
    "parameters = main(num_iterations=10000)"
   ]
  },
  {
   "cell_type": "code",
   "execution_count": null,
   "metadata": {},
   "outputs": [],
   "source": []
  }
 ],
 "metadata": {
  "colab": {
   "provenance": []
  },
  "kernelspec": {
   "display_name": "Python 3 (ipykernel)",
   "language": "python",
   "name": "python3"
  },
  "language_info": {
   "codemirror_mode": {
    "name": "ipython",
    "version": 3
   },
   "file_extension": ".py",
   "mimetype": "text/x-python",
   "name": "python",
   "nbconvert_exporter": "python",
   "pygments_lexer": "ipython3",
   "version": "3.12.4"
  }
 },
 "nbformat": 4,
 "nbformat_minor": 4
}
